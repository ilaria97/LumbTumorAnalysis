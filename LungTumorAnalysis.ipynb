{
 "cells": [
  {
   "cell_type": "markdown",
   "id": "3c7e00f4",
   "metadata": {
    "slideshow": {
     "slide_type": "slide"
    }
   },
   "source": [
    "# Lung Tumor Analyzer"
   ]
  },
  {
   "cell_type": "markdown",
   "id": "04faa4b5",
   "metadata": {
    "slideshow": {
     "slide_type": "slide"
    }
   },
   "source": [
    "# What does this project do?"
   ]
  },
  {
   "cell_type": "markdown",
   "id": "763a153b",
   "metadata": {
    "slideshow": {
     "slide_type": "subslide"
    }
   },
   "source": [
    "This project aim to predict the localization of the lymph nodes involved in the tumor process. Basically, there is a script that take informations about the patients e send them to a data analysis pipeline that use Logical Linear Regression alghorithms and show the results."
   ]
  },
  {
   "cell_type": "markdown",
   "id": "de52240d",
   "metadata": {
    "slideshow": {
     "slide_type": "slide"
    }
   },
   "source": [
    "# Why a lung tumor analyzer?"
   ]
  },
  {
   "cell_type": "markdown",
   "id": "2dbfd506",
   "metadata": {
    "slideshow": {
     "slide_type": "fragment"
    }
   },
   "source": [
    "Lung cancer is one of the most common and serious types of cancer. There are usually no signs or symptoms in the early stages of lung cancer. Lung cancer mainly affects older people. It's rare in people younger than 40. More than 4 out of 10 people diagnosed with lung cancer are aged 75 and older.\n",
    "\n",
    "If the condition is diagnosed early and the cancerous cells are confined to a small area, surgery to remove the affected area of lung may be recommended.\n",
    "\n",
    "Although people who have never smoked can develop lung cancer, smoking is the most common cause (accounting for about 72% of cases). This is because smoking involves regularly inhaling a number of different toxic substances."
   ]
  },
  {
   "cell_type": "markdown",
   "id": "980b62a4",
   "metadata": {
    "slideshow": {
     "slide_type": "slide"
    }
   },
   "source": [
    "# What results we will have?"
   ]
  },
  {
   "cell_type": "code",
   "execution_count": null,
   "id": "d6bfec98",
   "metadata": {
    "slideshow": {
     "slide_type": "-"
    }
   },
   "outputs": [],
   "source": [
    "The localization of the lymph nodes involved in the tumor process.\n",
    "\n",
    "-\"0.0\" => means that the cancer is not thought to have spread to nearby lymph nodes (N0).\n",
    "-\"1.0\" => means that the cancer has also spread to lymph nodes within the lung and/or \n",
    "          around the area where the bronchus enters the lung (hilar lymph nodes). \n",
    "          These lymph nodes are on the same side as the cancer (N1).\n",
    "-\"2.0\" => means that the cancer has spread to lymph nodes around the carina (the point where the windpipe splits \n",
    "          into the left and right bronchi) or in the space between the lungs (mediastinum). \n",
    "          These lymph nodes are on the same side as the main lung tumor (N2).\n",
    "-\"3.0\" => means that the cancer has spread to lymph nodes near the collarbone on either side of the body, and/or \n",
    "          has spread to hilar or mediastinal lymph nodes on the other side of the body from the main tumor (N3).\n",
    "-\"4.0\" => means that nearby lymph nodes cannot be assessed due to lack of information (NX).\n",
    "\n",
    "source: \"https://www.cancer.org/cancer/lung-cancer/detection-diagnosis-staging/staging-nsclc.html#:~:text=than%205%20cm).-,The%20cancer%20has%20spread%20to%20lymph%20nodes%20around%20the%20carina,main%20lung%20tumor%20(N2).\""
   ]
  },
  {
   "cell_type": "markdown",
   "id": "764ab739",
   "metadata": {
    "slideshow": {
     "slide_type": "slide"
    }
   },
   "source": [
    "# The data pipeline"
   ]
  },
  {
   "cell_type": "markdown",
   "id": "aa48c880",
   "metadata": {
    "slideshow": {
     "slide_type": "fragment"
    }
   },
   "source": [
    "![Pipeline.png](images/Pipeline.png)"
   ]
  },
  {
   "cell_type": "markdown",
   "id": "0a5b5e9a",
   "metadata": {
    "cell_style": "split",
    "slideshow": {
     "slide_type": "slide"
    }
   },
   "source": [
    "# Logstash\n",
    "\n",
    "For the data ingestion it was used Logstash, it basically give an intarface to Kafka and the Elastic suite. All this can be do easilly through the .conf file.\\\n",
    "It also add a @timestamp field to the json and other field that I preferred remove."
   ]
  },
  {
   "cell_type": "code",
   "execution_count": null,
   "id": "855db63e",
   "metadata": {
    "cell_style": "split",
    "slideshow": {
     "slide_type": "fragment"
    }
   },
   "outputs": [],
   "source": [
    "input {\n",
    "  file{\n",
    "        path=>\"/usr/share/logstash/csv/luad_clinical.csv\"\n",
    "        start_position=>\"beginning\"\n",
    "    }\n",
    "}\n",
    "\n",
    "filter {\n",
    "  csv{\n",
    "      separator => \",\"\n",
    "      columns=>[\"id\", \"pathology_report_uuid\", \"year_of_diagnosis\", \"years_smoked\", \"pack_years_smoked\", \"age_at_index\",\n",
    "                \"year_of_birth\", \"year_of_death\", \"label\"]\n",
    "      remove_field => [\"log\", \"file\", \"@version\", \"host\", \"message\", \"tags\", \"event\"]\n",
    "  }\n",
    "  mutate{\n",
    "    convert => {\n",
    "      \"id\" => integer\n",
    "      \"pathology_report_uuid\" => float\n",
    "      \"year_of_diagnosis\"=> float\n",
    "      \"years_smoked\"=> float\n",
    "      \"pack_years_smoked\"=> float\n",
    "      \"age_at_index\"=> float\n",
    "      \"year_of_birth\"=> float\n",
    "      \"year_of_death\" => float\n",
    "      \"label\" => float\n",
    "    }\n",
    "  }\n",
    "}\n",
    "\n",
    "output {\n",
    "  kafka {\n",
    "        codec => json\n",
    "        topic_id => \"luad\"\n",
    "        bootstrap_servers => \"10.0.100.23:9092\"      \n",
    "    }\n",
    "}"
   ]
  },
  {
   "cell_type": "markdown",
   "id": "333db9fd",
   "metadata": {
    "slideshow": {
     "slide_type": "slide"
    }
   },
   "source": [
    "# Kafka\n",
    "Apache Kafka is an open-source distributed event streaming platform for high-performance data pipelines, streaming analytics, data integration, and mission-critical applications.\n",
    "In this pipeline, the cluster uses a topic to store every message and deal them to the consumers in the right fashion."
   ]
  },
  {
   "cell_type": "markdown",
   "id": "a4d6f644",
   "metadata": {
    "slideshow": {
     "slide_type": "slide"
    }
   },
   "source": [
    "# Spark\n",
    "\n",
    "Apache Spark is an open-source unified analytics engine for large-scale data processing. In this projet it is used to apply a machine learning alghoritm: the Logistic Regression."
   ]
  },
  {
   "cell_type": "code",
   "execution_count": null,
   "id": "498ce0ab",
   "metadata": {
    "cell_style": "split",
    "slideshow": {
     "slide_type": "fragment"
    }
   },
   "outputs": [],
   "source": [
    "assembler=VectorAssembler(inputCols=['pathology_report_uuid','year_of_diagnosis','years_smoked',\n",
    "                                    'pack_years_smoked','age_at_index','year_of_birth','year_of_death'],outputCol='features')\n",
    "regression= LogisticRegression(featuresCol= 'features', labelCol='label')\n",
    "pipeline=Pipeline(stages=[assembler, regression])\n",
    "pipelineFit= pipeline.fit(trainingset)\n",
    "updated_trainingset = pipelineFit.transform(trainingset)"
   ]
  },
  {
   "cell_type": "markdown",
   "id": "962a7e3a",
   "metadata": {
    "slideshow": {
     "slide_type": "slide"
    }
   },
   "source": [
    "# Spark Stream\n",
    "\n",
    "Spark Stream process the streaming data that come from Kafka and send them to Elastic search. It uses a quite basical code for apply the model to every record."
   ]
  },
  {
   "cell_type": "markdown",
   "id": "2ddb2ebe",
   "metadata": {
    "cell_style": "split",
    "slideshow": {
     "slide_type": "fragment"
    }
   },
   "source": [
    "We start by reading the stream from the server and subscribing it in the topic"
   ]
  },
  {
   "cell_type": "code",
   "execution_count": null,
   "id": "4637c267",
   "metadata": {
    "cell_style": "split",
    "slideshow": {
     "slide_type": "fragment"
    }
   },
   "outputs": [],
   "source": [
    "df = spark \\\n",
    "  .readStream \\\n",
    "  .format(\"kafka\") \\\n",
    "  .option(\"kafka.bootstrap.servers\", kafkaServer) \\\n",
    "  .option(\"subscribe\", topic) \\\n",
    "  .load()"
   ]
  },
  {
   "cell_type": "markdown",
   "id": "61c8f8f8",
   "metadata": {
    "cell_style": "split",
    "slideshow": {
     "slide_type": "subslide"
    }
   },
   "source": [
    "After that we cast the values and we apply a schema. Then we elaborate the stream and write it."
   ]
  },
  {
   "cell_type": "code",
   "execution_count": null,
   "id": "cde64ff4",
   "metadata": {
    "cell_style": "split"
   },
   "outputs": [],
   "source": [
    "df.selectExpr(\"CAST(value AS STRING)\") \\\n",
    "    .select(from_json(\"value\", dataKafka).alias(\"data\")) \\\n",
    "    .select(\"data.*\") \\\n",
    "    .writeStream \\\n",
    "    .foreachBatch(elaborate) \\\n",
    "    .start() \\\n",
    "    .awaitTermination()"
   ]
  },
  {
   "cell_type": "markdown",
   "id": "2f681424",
   "metadata": {
    "cell_style": "split",
    "slideshow": {
     "slide_type": "subslide"
    }
   },
   "source": [
    "The elaborate method just apply the model to the record and send it to ElasticSearch. It also show the results on the standard output."
   ]
  },
  {
   "cell_type": "code",
   "execution_count": null,
   "id": "2e66e5a0",
   "metadata": {
    "cell_style": "split",
    "slideshow": {
     "slide_type": "fragment"
    }
   },
   "outputs": [],
   "source": [
    "def elaborate(batch_df: DataFrame, batch_id: int):\n",
    "    batch_df.show(truncate=False)\n",
    "    if not batch_df.rdd.isEmpty():\n",
    "        print(\"******************** \\n elaborate\\n\")\n",
    "        batch_df.show()                \n",
    "        data2=pipelineFit.transform(batch_df)\n",
    "        data2.show()\n",
    "        data2.summary()\n",
    "\n",
    "        print(\"************************ \\nSend to ES \\n\")\n",
    "        data2.select(\"id\", \"@timestamp\", \"year_of_diagnosis\", \"years_smoked\", \"pack_years_smoked\", \"age_at_index\", \"year_of_birth\", \"year_of_death\", \"prediction\") \\\n",
    "        .write \\\n",
    "        .format(\"org.elasticsearch.spark.sql\") \\\n",
    "        .mode('append') \\\n",
    "        .option(\"es.mapping.id\",\"id\") \\\n",
    "        .option(\"es.nodes\", elastic_host).save(elastic_index)"
   ]
  },
  {
   "cell_type": "markdown",
   "id": "dca9ed52",
   "metadata": {
    "slideshow": {
     "slide_type": "slide"
    }
   },
   "source": [
    "# Elasticsearch\n",
    "\n",
    "Elasticsearch is a distributed, free and open search and analytics engine for all types of data."
   ]
  },
  {
   "cell_type": "markdown",
   "id": "5e77352d",
   "metadata": {
    "slideshow": {
     "slide_type": "fragment"
    }
   },
   "source": [
    "The index is actually matched by the Spark Stream node through the information and the code provided in the script."
   ]
  },
  {
   "cell_type": "markdown",
   "id": "8184db3c",
   "metadata": {
    "slideshow": {
     "slide_type": "fragment"
    }
   },
   "source": [
    "After that we can proceed with the visualization on Kibana, i'll show you running everything.\n",
    "![dashboard.png](images/dashboard.png)"
   ]
  },
  {
   "cell_type": "markdown",
   "id": "5acce593",
   "metadata": {
    "slideshow": {
     "slide_type": "fragment"
    }
   },
   "source": [
    "![meme1.png](images/meme1.png) ![meme2.png](images/meme2.png) ![meme3.png](images/meme3.png)"
   ]
  }
 ],
 "metadata": {
  "celltoolbar": "Slideshow",
  "kernelspec": {
   "display_name": "Python 3 (ipykernel)",
   "language": "python",
   "name": "python3"
  },
  "language_info": {
   "codemirror_mode": {
    "name": "ipython",
    "version": 3
   },
   "file_extension": ".py",
   "mimetype": "text/x-python",
   "name": "python",
   "nbconvert_exporter": "python",
   "pygments_lexer": "ipython3",
   "version": "3.8.10"
  }
 },
 "nbformat": 4,
 "nbformat_minor": 5
}
